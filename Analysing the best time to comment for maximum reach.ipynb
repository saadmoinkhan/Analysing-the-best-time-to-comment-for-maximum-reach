{
 "cells": [
  {
   "cell_type": "markdown",
   "metadata": {},
   "source": [
    "# Analysing the best time to comment for maximum reach"
   ]
  },
  {
   "cell_type": "markdown",
   "metadata": {},
   "source": [
    "We are going to analyse the dataset of HackerNews website where people post and comment. We will try to find which kind of post gets the highest reach(highest comments), and what is the best time statistically for posting to get the maximum reach.\n",
    "\n",
    "Hacker News is a site started by the startup incubator Y Combinator, where user-submitted stories (known as \"posts\") are voted and commented upon, similar to reddit. Hacker News is extremely popular in technology and startup circles, and posts that make it to the top of Hacker News' listings can get hundreds of thousands of visitors as a result."
   ]
  },
  {
   "cell_type": "code",
   "execution_count": 1,
   "metadata": {},
   "outputs": [],
   "source": [
    "from csv import reader\n",
    "opened_file = open('HN_posts_year_to_Sep_26_2016.csv', encoding = \"utf8\")\n",
    "read_file = reader(opened_file)\n",
    "hn = list(read_file)\n",
    "header = hn[0:1]\n",
    "hn = hn[1:]"
   ]
  },
  {
   "cell_type": "code",
   "execution_count": 2,
   "metadata": {},
   "outputs": [],
   "source": [
    "def explore_data(a_list, start =0 , end = 10, rows_and_columns = False):\n",
    "    sliced_data = a_list[start:end]\n",
    "    for x in sliced_data:\n",
    "        print(x)\n",
    "        print('\\n')\n",
    "    if rows_and_columns:\n",
    "        print('Number of rows are - ', len(a_list))\n",
    "        print('\\n')\n",
    "        print('Number of columns are - ', len(a_list[0]))"
   ]
  },
  {
   "cell_type": "code",
   "execution_count": 3,
   "metadata": {},
   "outputs": [
    {
     "name": "stdout",
     "output_type": "stream",
     "text": [
      "[['id', 'title', 'url', 'num_points', 'num_comments', 'author', 'created_at']] \n",
      "\n",
      "['12579008', 'You have two days to comment if you want stem cells to be classified as your own', 'http://www.regulations.gov/document?D=FDA-2015-D-3719-0018', '1', '0', 'altstar', '9/26/2016 3:26']\n",
      "\n",
      "\n",
      "['12579005', 'SQLAR  the SQLite Archiver', 'https://www.sqlite.org/sqlar/doc/trunk/README.md', '1', '0', 'blacksqr', '9/26/2016 3:24']\n",
      "\n",
      "\n",
      "['12578997', 'What if we just printed a flatscreen television on the side of our boxes?', 'https://medium.com/vanmoof/our-secrets-out-f21c1f03fdc8#.ietxmez43', '1', '0', 'pavel_lishin', '9/26/2016 3:19']\n",
      "\n",
      "\n",
      "['12578989', 'algorithmic music', 'http://cacm.acm.org/magazines/2011/7/109891-algorithmic-composition/fulltext', '1', '0', 'poindontcare', '9/26/2016 3:16']\n",
      "\n",
      "\n",
      "['12578979', 'How the Data Vault Enables the Next-Gen Data Warehouse and Data Lake', 'https://www.talend.com/blog/2016/05/12/talend-and-Â\\x93the-data-vaultÂ\\x94', '1', '0', 'markgainor1', '9/26/2016 3:14']\n",
      "\n",
      "\n",
      "Number of rows are -  293119\n",
      "\n",
      "\n",
      "Number of columns are -  7\n"
     ]
    }
   ],
   "source": [
    "print(header,'\\n')\n",
    "explore_data(hn, 0, 5, rows_and_columns = True)"
   ]
  },
  {
   "cell_type": "code",
   "execution_count": 4,
   "metadata": {},
   "outputs": [
    {
     "name": "stdout",
     "output_type": "stream",
     "text": [
      "9139 \n",
      "\n",
      "10158 \n",
      "\n",
      "273822 \n",
      "\n"
     ]
    }
   ],
   "source": [
    "ask_posts = []\n",
    "show_posts = []\n",
    "other_posts = []\n",
    "\n",
    "for x in hn:\n",
    "    title = str(x[1])\n",
    "    if (title.lower()).startswith('ask hn'):\n",
    "        ask_posts.append(x)\n",
    "    elif (title.lower()).startswith('show hn'):\n",
    "        show_posts.append(x)\n",
    "    else:\n",
    "        other_posts.append(x)\n",
    "\n",
    "print(len(ask_posts),'\\n')\n",
    "print(len(show_posts),'\\n')\n",
    "print(len(other_posts),'\\n')"
   ]
  },
  {
   "cell_type": "markdown",
   "metadata": {},
   "source": [
    "### Finding average comments"
   ]
  },
  {
   "cell_type": "code",
   "execution_count": 5,
   "metadata": {},
   "outputs": [
    {
     "name": "stdout",
     "output_type": "stream",
     "text": [
      "Average Ask Comments are : 10.393478498741656 \n",
      "\n",
      "Average Show Comments are : 4.886099625910612 \n",
      "\n"
     ]
    }
   ],
   "source": [
    "def find_average(a_list, index):\n",
    "    total = 0\n",
    "    for x in a_list:\n",
    "        if x[index] != '':\n",
    "            temp = int(x[index])\n",
    "            total += temp\n",
    "    return total/len(a_list)\n",
    "    \n",
    "\n",
    "avg_ask_comments = find_average(ask_posts,4)\n",
    "avg_show_comments = find_average(show_posts,4)\n",
    "\n",
    "print('Average Ask Comments are :', avg_ask_comments, '\\n')\n",
    "print('Average Show Comments are :',avg_show_comments, '\\n')"
   ]
  },
  {
   "cell_type": "markdown",
   "metadata": {},
   "source": [
    "### Finding average comments by hour"
   ]
  },
  {
   "cell_type": "code",
   "execution_count": 6,
   "metadata": {},
   "outputs": [
    {
     "name": "stdout",
     "output_type": "stream",
     "text": [
      "15:00 had average comments per post : 28.68\n",
      "13:00 had average comments per post : 16.32\n",
      "12:00 had average comments per post : 12.38\n",
      "02:00 had average comments per post : 11.14\n",
      "10:00 had average comments per post : 10.68\n",
      "04:00 had average comments per post : 9.71\n",
      "14:00 had average comments per post : 9.69\n",
      "17:00 had average comments per post : 9.45\n",
      "08:00 had average comments per post : 9.19\n",
      "11:00 had average comments per post : 8.96\n",
      "22:00 had average comments per post : 8.80\n",
      "05:00 had average comments per post : 8.79\n",
      "20:00 had average comments per post : 8.75\n",
      "21:00 had average comments per post : 8.69\n",
      "03:00 had average comments per post : 7.95\n",
      "18:00 had average comments per post : 7.94\n",
      "16:00 had average comments per post : 7.71\n",
      "00:00 had average comments per post : 7.56\n",
      "01:00 had average comments per post : 7.41\n",
      "19:00 had average comments per post : 7.16\n",
      "07:00 had average comments per post : 7.01\n",
      "06:00 had average comments per post : 6.78\n",
      "23:00 had average comments per post : 6.70\n",
      "09:00 had average comments per post : 6.65\n"
     ]
    }
   ],
   "source": [
    "import datetime as dt\n",
    "\n",
    "result_list = [] #Taking only Created at and number of comments\n",
    "for x in ask_posts:\n",
    "    temp1 = x[6]\n",
    "    temp2 = int(x[4])\n",
    "    result_list.append([temp1, temp2])\n",
    "    \n",
    "counts_by_hour = {}\n",
    "comments_by_hour = {}\n",
    "\n",
    "for x in result_list:\n",
    "    time = x[0]\n",
    "    dt_time = dt.datetime.strptime(time,\"%m/%d/%Y %H:%M\")\n",
    "    temp = dt_time.strftime(\"%H\")\n",
    "    if temp in counts_by_hour:\n",
    "        counts_by_hour[temp] += 1\n",
    "        comments_by_hour[temp] += x[1]\n",
    "    else:\n",
    "        counts_by_hour[temp] = 1\n",
    "        comments_by_hour[temp] = x[1]\n",
    "\n",
    "avg_by_hour = {}\n",
    "for x in counts_by_hour:\n",
    "    avg_by_hour[x] = comments_by_hour[x]/counts_by_hour[x]\n",
    "\n",
    "def sort_dict(a_dict, descending = True):\n",
    "    temp_list = []\n",
    "    for x in a_dict:\n",
    "        tuple_a = a_dict[x], x\n",
    "        temp_list.append(tuple_a)\n",
    "    if descending:\n",
    "        sorted_list = sorted(temp_list, reverse = True)\n",
    "    else:\n",
    "        sorted_list = sorted(temp_list)\n",
    "    return list(sorted_list)\n",
    "\n",
    "avg_by_hour_list = sort_dict(avg_by_hour)\n",
    "for x in avg_by_hour_list:\n",
    "    time = dt.time(hour = int(x[1])).strftime(\"%H:%M\")\n",
    "    print(\"{time} had average comments per post : {avg:.2f}\".format(time = time, avg = x[0]) )"
   ]
  },
  {
   "cell_type": "markdown",
   "metadata": {},
   "source": [
    "### Summary \n",
    "\n",
    "Therefore the above mentioned times are the best to post to get the highest number of comments per post."
   ]
  }
 ],
 "metadata": {
  "kernelspec": {
   "display_name": "Python 3",
   "language": "python",
   "name": "python3"
  },
  "language_info": {
   "codemirror_mode": {
    "name": "ipython",
    "version": 3
   },
   "file_extension": ".py",
   "mimetype": "text/x-python",
   "name": "python",
   "nbconvert_exporter": "python",
   "pygments_lexer": "ipython3",
   "version": "3.7.6"
  }
 },
 "nbformat": 4,
 "nbformat_minor": 4
}
